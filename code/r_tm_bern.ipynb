{
 "cells": [
  {
   "cell_type": "markdown",
   "id": "ac48d68a-2a3f-4229-968c-8b54b318bafb",
   "metadata": {},
   "source": [
    "# Bernoulli TM implementation\n",
    "\n",
    "## Loading libraries"
   ]
  },
  {
   "cell_type": "code",
   "execution_count": 8,
   "id": "6785b408-c119-4dc8-91c8-1506be70dec6",
   "metadata": {},
   "outputs": [],
   "source": [
    "# Load libraries\n",
    "import logging\n",
    "import pyro\n",
    "\n",
    "import pyro.distributions as dist\n",
    "from pyro import poutine\n",
    "\n",
    "import torch\n",
    "from torch.distributions import constraints\n",
    "\n",
    "import numpy as np\n",
    "import pandas as pd\n",
    "\n",
    "import matplotlib.pyplot as plt\n",
    "\n",
    "logging.basicConfig(format=\"%(relativeCreated) 9d %(message)s\", level=logging.INFO)\n",
    "\n",
    "pyro.clear_param_store()\n",
    "pyro.set_rng_seed(1234)"
   ]
  },
  {
   "cell_type": "markdown",
   "id": "981ebd71-a205-4e6a-9e7c-365e93ac39e8",
   "metadata": {},
   "source": [
    "## Simulate"
   ]
  },
  {
   "cell_type": "code",
   "execution_count": 3,
   "id": "28415829-dba5-43c7-9f1b-352bf7018f9a",
   "metadata": {},
   "outputs": [],
   "source": [
    "def LogitNormal(mu, s): \n",
    "    base_dist = pyro.distributions.Normal(loc = mu, scale = s)\n",
    "    response_dist = pyro.distributions.TransformedDistribution(\n",
    "        base_distribution=base_dist, transforms=torch.distributions.transforms.SigmoidTransform())\n",
    "    return response_dist\n",
    "\n",
    "##### Simulation strategy\n",
    "nCells = 5\n",
    "nRegions = 3\n",
    "nTopics = 2\n",
    "a = torch.ones(nTopics) / 10\n",
    "\n",
    "# Detection rate (coverage)\n",
    "cov = dist.Beta(10, 2).sample([nRegions]) + 0.02\n",
    "# Cell topics distribution\n",
    "theta = dist.Dirichlet(a).sample([nCells])\n",
    "# Topics region distribution\n",
    "phi = LogitNormal(0, 2).sample([nTopics, nRegions])\n",
    "\n",
    "D_np = np.empty([nCells, nRegions], dtype = np.float16)\n",
    "# Simulate each cell\n",
    "for c in range(nCells):\n",
    "    for r in range(nRegions):\n",
    "        # Sample topics and corresponding regions\n",
    "        z = dist.Categorical(theta[c, :]).sample()\n",
    "        w = dist.Bernoulli(phi[z, r] * cov[r]).sample().detach().tolist()\n",
    "        D_np[c, r] = w\n",
    "\n",
    "# Transpose to have nRegions x nCells\n",
    "D = torch.from_numpy(D_np).t()"
   ]
  },
  {
   "cell_type": "code",
   "execution_count": 4,
   "id": "acbb1d68-0231-42c5-8857-edacd2f1eea5",
   "metadata": {},
   "outputs": [
    {
     "data": {
      "image/png": "[encoded data removed]",
      "text/plain": [
       "<Figure size 640x480 with 1 Axes>"
      ]
     },
     "metadata": {},
     "output_type": "display_data"
    }
   ],
   "source": [
    "label = theta.detach().numpy()\n",
    "from sklearn.decomposition import PCA\n",
    "pca = PCA()\n",
    "Xt = pca.fit_transform(D_np)\n",
    "plot = plt.scatter(Xt[:,0], Xt[:,1], c = label.argmax(axis=1).tolist())\n",
    "#plt.legend(handles=plot.legend_elements()[0], labels=list(winedata['target_names']))\n",
    "plt.show()"
   ]
  },
  {
   "cell_type": "code",
   "execution_count": 4,
   "id": "1fde295b-3c54-4d9d-b8e6-ef362fa3434b",
   "metadata": {},
   "outputs": [],
   "source": [
    "#pyro.set_rng_seed(123)\n",
    "#trace = pyro.poutine.trace(tm_bern_model).get_trace()\n",
    "#trace.compute_log_prob()  # optional, but allows printing of log_prob shapes\n",
    "#print(trace.format_shapes())"
   ]
  },
  {
   "cell_type": "markdown",
   "id": "d5e89bcb-d247-4508-a9b6-f185cbf9053f",
   "metadata": {},
   "source": [
    "## Bernoulli topic model"
   ]
  },
  {
   "cell_type": "markdown",
   "id": "21da882b-fcba-4d1e-9da3-1d0544a99a0c",
   "metadata": {},
   "source": [
    "Below we define the STM model with Pyro. Note that data D is a matrix of __nRegions x nCells__."
   ]
  },
  {
   "cell_type": "code",
   "execution_count": 5,
   "id": "d4b4af57-ad8c-49fe-a9b2-3555247eb618",
   "metadata": {},
   "outputs": [],
   "source": [
    "def tm_bern_model(D=None, nTopics=2, nCells=5, nRegions = 3):\n",
    "    \"\"\"\n",
    "    This is a fully generative model of a batch of cells.\n",
    "    \n",
    "    :param D: Data matrix, [nRegions, nCells] shaped array\n",
    "    :param nTopics: Number of topics\n",
    "    :param nCells: Optional number of cells, used only when D=None to generate a new dataset\n",
    "    :param nRegions: Optional number of regions, used only when D=None to generate a new dataset\n",
    "    \"\"\"\n",
    "    if D is not None:\n",
    "        nCells = D.shape[1]\n",
    "        nRegions = D.shape[0]\n",
    "    \n",
    "    # Index matrix on nRegions x nTopics\n",
    "    idx = torch.arange(0,nRegions).unsqueeze(1).repeat(1, nCells)\n",
    "    \n",
    "    # Define reusable context managers\n",
    "    topics_plate = pyro.plate(name=\"nTopics\", size=nTopics, dim=-1)\n",
    "    phi_regions_plate = pyro.plate(name=\"phi_nRegions\", size=nRegions, dim=-2)\n",
    "    \n",
    "    ## Globals\n",
    "    # Topic-regions prior\n",
    "    b = torch.ones([nRegions, nTopics])/10.\n",
    "    # Topic-cells prior\n",
    "    alpha = torch.ones(nTopics)/nTopics\n",
    "    #with topics_plate:\n",
    "    #    alpha = pyro.sample(\"alpha\", dist.Gamma(1.0 / nTopics, 1.0))\n",
    "    \n",
    "    # Topic-regions distribution\n",
    "    with phi_regions_plate, topics_plate:\n",
    "        phi = pyro.sample(name=\"phi\", fn=dist.Beta(b, 2))\n",
    "    ## Locals\n",
    "    with pyro.plate(name=\"nCells\", size=nCells):\n",
    "        # Topic-cells distribution\n",
    "        theta = pyro.sample(name=\"theta\", fn=dist.Dirichlet(alpha))\n",
    "        with pyro.plate(name=\"nRegions\", size=nRegions):\n",
    "            # The word_topics variable is marginalized out during inference,\n",
    "            # achieved by specifying infer={\"enumerate\": \"parallel\"} and using\n",
    "            # TraceEnum_ELBO for inference. Thus we can ignore this variable in\n",
    "            # the guide.\n",
    "            z = pyro.sample(name=\"z\", fn=dist.Categorical(theta), infer={\"enumerate\" : \"parallel\"})\n",
    "            print(\"z shape = {}\".format(z.shape))\n",
    "            print(\"z = {}\".format(z))\n",
    "            #tmp = Vindex(phi)[z, :]\n",
    "            tmp = phi[idx, z]\n",
    "            print(\"tmp shape = {}\".format(tmp.shape))\n",
    "            print(\"tmp = {}\".format(tmp))\n",
    "            print(\"phi shape = {}\".format(phi.shape))\n",
    "            print(\"phi = {}\".format(phi))\n",
    "            w = pyro.sample(name=\"w\", fn=dist.Bernoulli(tmp), obs=D)\n",
    "            print(\"w shape = {}\".format(w.shape))\n",
    "            print(\"w = {}\".format(w))\n",
    "                 \n",
    "    obj = dict()\n",
    "    obj['alpha'] = alpha\n",
    "    obj['beta'] = b\n",
    "    obj['theta'] = theta\n",
    "    obj['phi'] = phi\n",
    "    obj['D'] = D\n",
    "    return obj"
   ]
  },
  {
   "cell_type": "code",
   "execution_count": 6,
   "id": "3bfe7385-fce9-4f4c-ad66-044cbdeeccf5",
   "metadata": {},
   "outputs": [
    {
     "name": "stdout",
     "output_type": "stream",
     "text": [
      "z shape = torch.Size([3, 5])\n",
      "z = tensor([[0, 0, 1, 1, 1],\n",
      "        [1, 0, 1, 0, 1],\n",
      "        [1, 0, 1, 0, 1]])\n",
      "tmp shape = torch.Size([3, 5])\n",
      "tmp = tensor([[8.9217e-20, 8.9217e-20, 1.4491e-07, 1.4491e-07, 1.4491e-07],\n",
      "        [2.9985e-05, 3.4401e-04, 2.9985e-05, 3.4401e-04, 2.9985e-05],\n",
      "        [1.2815e-05, 4.7526e-10, 1.2815e-05, 4.7526e-10, 1.2815e-05]])\n",
      "phi shape = torch.Size([3, 2])\n",
      "phi = tensor([[8.9217e-20, 1.4491e-07],\n",
      "        [3.4401e-04, 2.9985e-05],\n",
      "        [4.7526e-10, 1.2815e-05]])\n",
      "w shape = torch.Size([3, 5])\n",
      "w = tensor([[1., 1., 1., 0., 1.],\n",
      "        [0., 0., 1., 0., 0.],\n",
      "        [0., 1., 0., 1., 1.]], dtype=torch.float16)\n"
     ]
    },
    {
     "data": {
      "image/svg+xml": [
       "<?xml version=\"1.0\" encoding=\"UTF-8\" standalone=\"no\"?>\n",
       "<!DOCTYPE svg PUBLIC \"-//W3C//DTD SVG 1.1//EN\"\n",
       " \"http://www.w3.org/Graphics/SVG/1.1/DTD/svg11.dtd\">\n",
       "<!-- Generated by graphviz version 2.50.0 (0)\n",
       " -->\n",
       "<!-- Pages: 1 -->\n",
       "<svg width=\"316pt\" height=\"324pt\"\n",
       " viewBox=\"0.00 0.00 316.00 324.00\" xmlns=\"http://www.w3.org/2000/svg\" xmlns:xlink=\"http://www.w3.org/1999/xlink\">\n",
       "<g id=\"graph0\" class=\"graph\" transform=\"scale(1 1) rotate(0) translate(4 320)\">\n",
       "<polygon fill=\"white\" stroke=\"transparent\" points=\"-4,4 -4,-320 312,-320 312,4 -4,4\"/>\n",
       "<g id=\"clust1\" class=\"cluster\">\n",
       "<title>cluster_phi_nRegions</title>\n",
       "<polygon fill=\"none\" stroke=\"black\" points=\"8,-114 8,-228 100,-228 100,-114 8,-114\"/>\n",
       "<text text-anchor=\"middle\" x=\"54\" y=\"-121.8\" font-family=\"Times,serif\" font-size=\"14.00\">phi_nRegions</text>\n",
       "</g>\n",
       "<g id=\"clust2\" class=\"cluster\">\n",
       "<title>cluster_nTopics</title>\n",
       "<polygon fill=\"none\" stroke=\"black\" points=\"22,-145 22,-220 92,-220 92,-145 22,-145\"/>\n",
       "<text text-anchor=\"middle\" x=\"62\" y=\"-152.8\" font-family=\"Times,serif\" font-size=\"14.00\">nTopics</text>\n",
       "</g>\n",
       "<g id=\"clust3\" class=\"cluster\">\n",
       "<title>cluster_nCells</title>\n",
       "<polygon fill=\"none\" stroke=\"black\" points=\"108,-8 108,-308 194,-308 194,-8 108,-8\"/>\n",
       "<text text-anchor=\"middle\" x=\"168.5\" y=\"-15.8\" font-family=\"Times,serif\" font-size=\"14.00\">nCells</text>\n",
       "</g>\n",
       "<g id=\"clust4\" class=\"cluster\">\n",
       "<title>cluster_nRegions</title>\n",
       "<polygon fill=\"none\" stroke=\"black\" points=\"116,-39 116,-220 186,-220 186,-39 116,-39\"/>\n",
       "<text text-anchor=\"middle\" x=\"152\" y=\"-46.8\" font-family=\"Times,serif\" font-size=\"14.00\">nRegions</text>\n",
       "</g>\n",
       "<!-- phi -->\n",
       "<g id=\"node1\" class=\"node\">\n",
       "<title>phi</title>\n",
       "<ellipse fill=\"white\" stroke=\"black\" cx=\"57\" cy=\"-194\" rx=\"27\" ry=\"18\"/>\n",
       "<text text-anchor=\"middle\" x=\"57\" y=\"-190.3\" font-family=\"Times,serif\" font-size=\"14.00\">phi</text>\n",
       "</g>\n",
       "<!-- w -->\n",
       "<g id=\"node4\" class=\"node\">\n",
       "<title>w</title>\n",
       "<ellipse fill=\"grey\" stroke=\"black\" cx=\"151\" cy=\"-88\" rx=\"27\" ry=\"18\"/>\n",
       "<text text-anchor=\"middle\" x=\"151\" y=\"-84.3\" font-family=\"Times,serif\" font-size=\"14.00\">w</text>\n",
       "</g>\n",
       "<!-- phi&#45;&gt;w -->\n",
       "<g id=\"edge2\" class=\"edge\">\n",
       "<title>phi&#45;&gt;w</title>\n",
       "<path fill=\"none\" stroke=\"black\" d=\"M65.73,-176.78C75.44,-159.75 92.37,-132.89 112,-114 115.06,-111.05 118.53,-108.25 122.09,-105.67\"/>\n",
       "<polygon fill=\"black\" stroke=\"black\" points=\"124.1,-108.54 130.46,-100.06 120.2,-102.72 124.1,-108.54\"/>\n",
       "</g>\n",
       "<!-- theta -->\n",
       "<g id=\"node2\" class=\"node\">\n",
       "<title>theta</title>\n",
       "<ellipse fill=\"white\" stroke=\"black\" cx=\"151\" cy=\"-282\" rx=\"27.9\" ry=\"18\"/>\n",
       "<text text-anchor=\"middle\" x=\"151\" y=\"-278.3\" font-family=\"Times,serif\" font-size=\"14.00\">theta</text>\n",
       "</g>\n",
       "<!-- z -->\n",
       "<g id=\"node3\" class=\"node\">\n",
       "<title>z</title>\n",
       "<ellipse fill=\"white\" stroke=\"black\" cx=\"151\" cy=\"-194\" rx=\"27\" ry=\"18\"/>\n",
       "<text text-anchor=\"middle\" x=\"151\" y=\"-190.3\" font-family=\"Times,serif\" font-size=\"14.00\">z</text>\n",
       "</g>\n",
       "<!-- theta&#45;&gt;z -->\n",
       "<g id=\"edge1\" class=\"edge\">\n",
       "<title>theta&#45;&gt;z</title>\n",
       "<path fill=\"none\" stroke=\"black\" d=\"M151,-263.6C151,-251.75 151,-235.82 151,-222.29\"/>\n",
       "<polygon fill=\"black\" stroke=\"black\" points=\"154.5,-222.08 151,-212.08 147.5,-222.08 154.5,-222.08\"/>\n",
       "</g>\n",
       "<!-- z&#45;&gt;w -->\n",
       "<g id=\"edge3\" class=\"edge\">\n",
       "<title>z&#45;&gt;w</title>\n",
       "<path fill=\"none\" stroke=\"black\" d=\"M151,-175.83C151,-159.64 151,-135.13 151,-116.27\"/>\n",
       "<polygon fill=\"black\" stroke=\"black\" points=\"154.5,-116.2 151,-106.2 147.5,-116.2 154.5,-116.2\"/>\n",
       "</g>\n",
       "<!-- distribution_description_node -->\n",
       "<g id=\"node5\" class=\"node\">\n",
       "<title>distribution_description_node</title>\n",
       "<text text-anchor=\"start\" x=\"210\" y=\"-300.8\" font-family=\"Times,serif\" font-size=\"14.00\">phi ~ Beta</text>\n",
       "<text text-anchor=\"start\" x=\"210\" y=\"-285.8\" font-family=\"Times,serif\" font-size=\"14.00\">theta ~ Dirichlet</text>\n",
       "<text text-anchor=\"start\" x=\"210\" y=\"-270.8\" font-family=\"Times,serif\" font-size=\"14.00\">z ~ Categorical</text>\n",
       "<text text-anchor=\"start\" x=\"210\" y=\"-255.8\" font-family=\"Times,serif\" font-size=\"14.00\">w ~ Bernoulli</text>\n",
       "</g>\n",
       "</g>\n",
       "</svg>\n"
      ],
      "text/plain": [
       "<graphviz.graphs.Digraph at 0x7fd2785e9f30>"
      ]
     },
     "execution_count": 6,
     "metadata": {},
     "output_type": "execute_result"
    }
   ],
   "source": [
    "pyro.clear_param_store()\n",
    "pyro.render_model(tm_bern_model, model_args=(D, nTopics), \n",
    "                  render_distributions=True, render_params=True)"
   ]
  },
  {
   "cell_type": "markdown",
   "id": "5f03290a-f215-480f-9cfb-b15d2e3e7866",
   "metadata": {},
   "source": [
    "## LDA guide (variational approximation)"
   ]
  },
  {
   "cell_type": "code",
   "execution_count": 9,
   "id": "4573608e-4866-47c1-8ef3-1a5728cc8048",
   "metadata": {},
   "outputs": [],
   "source": [
    "def tm_bern_guide(D, nTopics=2, nCells=5, nRegions=3):\n",
    "    \"\"\"\n",
    "    Guide implementation of Bernoulli topic model.\n",
    "    Data is a [nRegions, nCells] shaped array.\n",
    "    \n",
    "    :param D: Data matrix, [nRegions, nCells] shaped array\n",
    "    :param nTopics: Number of topics\n",
    "    :param nCells: Optional number of cells, used only when D=None to generate a new dataset\n",
    "    :param nRegions: Optional number of regions, used only when D=None to generate a new dataset\n",
    "    \"\"\"\n",
    "    \n",
    "    if D is not None:\n",
    "        nCells = D.shape[1]\n",
    "        nRegions = D.shape[0]\n",
    "        \n",
    "    # Define reusable context managers\n",
    "    topics_plate = pyro.plate(name=\"nTopics\", size=nTopics, dim=-1)\n",
    "    phi_regions_plate = pyro.plate(name=\"phi_nRegions\", size=nRegions, dim=-2)\n",
    "    \n",
    "    ## Globals\n",
    "    phi_vi = pyro.param(\n",
    "        \"phi_vi\", \n",
    "        lambda: dist.LogNormal(loc=0., scale=1).sample([nRegions, nTopics]),\n",
    "        constraint=constraints.positive)\n",
    "    theta_vi = pyro.param(\n",
    "        \"theta_vi\", \n",
    "        lambda: dist.LogNormal(loc=0., scale=0.5).sample([nCells, nTopics]),\n",
    "        constraint=constraints.positive)\n",
    "    \n",
    "    # Iterate over topics and regions\n",
    "    with phi_regions_plate, topics_plate:\n",
    "        phi = pyro.sample(\"phi\", dist.Beta(phi_vi, 2))\n",
    "    \n",
    "    # Iterate over cells\n",
    "    with pyro.plate(\"nCells\", nCells):\n",
    "        # Topic-cells distribution\n",
    "        theta = pyro.sample(\"theta\", dist.Dirichlet(theta_vi))\n",
    "                          \n",
    "    obj = dict()\n",
    "    obj['theta_vi'] = theta_vi\n",
    "    obj['phi_vi'] = phi_vi\n",
    "    obj['theta'] = theta\n",
    "    obj['phi'] = phi\n",
    "    obj['D'] = D\n",
    "    return obj"
   ]
  },
  {
   "cell_type": "code",
   "execution_count": 10,
   "id": "291f0abc-056e-48ce-976c-bd883ddb1215",
   "metadata": {},
   "outputs": [
    {
     "data": {
      "image/svg+xml": [
       "<?xml version=\"1.0\" encoding=\"UTF-8\" standalone=\"no\"?>\n",
       "<!DOCTYPE svg PUBLIC \"-//W3C//DTD SVG 1.1//EN\"\n",
       " \"http://www.w3.org/Graphics/SVG/1.1/DTD/svg11.dtd\">\n",
       "<!-- Generated by graphviz version 2.50.0 (0)\n",
       " -->\n",
       "<!-- Pages: 1 -->\n",
       "<svg width=\"423pt\" height=\"218pt\"\n",
       " viewBox=\"0.00 0.00 422.50 218.00\" xmlns=\"http://www.w3.org/2000/svg\" xmlns:xlink=\"http://www.w3.org/1999/xlink\">\n",
       "<g id=\"graph0\" class=\"graph\" transform=\"scale(1 1) rotate(0) translate(4 214)\">\n",
       "<polygon fill=\"white\" stroke=\"transparent\" points=\"-4,4 -4,-214 418.5,-214 418.5,4 -4,4\"/>\n",
       "<g id=\"clust1\" class=\"cluster\">\n",
       "<title>cluster_phi_nRegions</title>\n",
       "<polygon fill=\"none\" stroke=\"black\" points=\"88,-8 88,-122 180,-122 180,-8 88,-8\"/>\n",
       "<text text-anchor=\"middle\" x=\"134\" y=\"-15.8\" font-family=\"Times,serif\" font-size=\"14.00\">phi_nRegions</text>\n",
       "</g>\n",
       "<g id=\"clust2\" class=\"cluster\">\n",
       "<title>cluster_nTopics</title>\n",
       "<polygon fill=\"none\" stroke=\"black\" points=\"99,-39 99,-114 169,-114 169,-39 99,-39\"/>\n",
       "<text text-anchor=\"middle\" x=\"139\" y=\"-46.8\" font-family=\"Times,serif\" font-size=\"14.00\">nTopics</text>\n",
       "</g>\n",
       "<g id=\"clust3\" class=\"cluster\">\n",
       "<title>cluster_nCells</title>\n",
       "<polygon fill=\"none\" stroke=\"black\" points=\"8,-39 8,-114 80,-114 80,-39 8,-39\"/>\n",
       "<text text-anchor=\"middle\" x=\"54.5\" y=\"-46.8\" font-family=\"Times,serif\" font-size=\"14.00\">nCells</text>\n",
       "</g>\n",
       "<!-- theta_vi -->\n",
       "<g id=\"node1\" class=\"node\">\n",
       "<title>theta_vi</title>\n",
       "<polygon fill=\"white\" stroke=\"transparent\" points=\"66,-183.5 22,-183.5 22,-168.5 66,-168.5 66,-183.5\"/>\n",
       "<text text-anchor=\"middle\" x=\"44\" y=\"-172.3\" font-family=\"Times,serif\" font-size=\"14.00\">theta_vi</text>\n",
       "</g>\n",
       "<!-- theta -->\n",
       "<g id=\"node4\" class=\"node\">\n",
       "<title>theta</title>\n",
       "<ellipse fill=\"white\" stroke=\"black\" cx=\"44\" cy=\"-88\" rx=\"27.9\" ry=\"18\"/>\n",
       "<text text-anchor=\"middle\" x=\"44\" y=\"-84.3\" font-family=\"Times,serif\" font-size=\"14.00\">theta</text>\n",
       "</g>\n",
       "<!-- theta_vi&#45;&gt;theta -->\n",
       "<g id=\"edge2\" class=\"edge\">\n",
       "<title>theta_vi&#45;&gt;theta</title>\n",
       "<path fill=\"none\" stroke=\"black\" d=\"M44,-168.25C44,-157.2 44,-134.63 44,-116.4\"/>\n",
       "<polygon fill=\"black\" stroke=\"black\" points=\"47.5,-116.28 44,-106.28 40.5,-116.28 47.5,-116.28\"/>\n",
       "</g>\n",
       "<!-- phi_vi -->\n",
       "<g id=\"node2\" class=\"node\">\n",
       "<title>phi_vi</title>\n",
       "<polygon fill=\"white\" stroke=\"transparent\" points=\"151.5,-183.5 116.5,-183.5 116.5,-168.5 151.5,-168.5 151.5,-183.5\"/>\n",
       "<text text-anchor=\"middle\" x=\"134\" y=\"-172.3\" font-family=\"Times,serif\" font-size=\"14.00\">phi_vi</text>\n",
       "</g>\n",
       "<!-- phi -->\n",
       "<g id=\"node3\" class=\"node\">\n",
       "<title>phi</title>\n",
       "<ellipse fill=\"white\" stroke=\"black\" cx=\"134\" cy=\"-88\" rx=\"27\" ry=\"18\"/>\n",
       "<text text-anchor=\"middle\" x=\"134\" y=\"-84.3\" font-family=\"Times,serif\" font-size=\"14.00\">phi</text>\n",
       "</g>\n",
       "<!-- phi_vi&#45;&gt;phi -->\n",
       "<g id=\"edge1\" class=\"edge\">\n",
       "<title>phi_vi&#45;&gt;phi</title>\n",
       "<path fill=\"none\" stroke=\"black\" d=\"M134,-168.25C134,-157.2 134,-134.63 134,-116.4\"/>\n",
       "<polygon fill=\"black\" stroke=\"black\" points=\"137.5,-116.28 134,-106.28 130.5,-116.28 137.5,-116.28\"/>\n",
       "</g>\n",
       "<!-- distribution_description_node -->\n",
       "<g id=\"node5\" class=\"node\">\n",
       "<title>distribution_description_node</title>\n",
       "<text text-anchor=\"start\" x=\"177.5\" y=\"-194.8\" font-family=\"Times,serif\" font-size=\"14.00\">phi ~ Beta</text>\n",
       "<text text-anchor=\"start\" x=\"177.5\" y=\"-179.8\" font-family=\"Times,serif\" font-size=\"14.00\">theta ~ Dirichlet</text>\n",
       "<text text-anchor=\"start\" x=\"177.5\" y=\"-164.8\" font-family=\"Times,serif\" font-size=\"14.00\">phi_vi : GreaterThan(lower_bound=0.0)</text>\n",
       "<text text-anchor=\"start\" x=\"177.5\" y=\"-149.8\" font-family=\"Times,serif\" font-size=\"14.00\">theta_vi : GreaterThan(lower_bound=0.0)</text>\n",
       "</g>\n",
       "</g>\n",
       "</svg>\n"
      ],
      "text/plain": [
       "<graphviz.graphs.Digraph at 0x7fd2692127a0>"
      ]
     },
     "execution_count": 10,
     "metadata": {},
     "output_type": "execute_result"
    }
   ],
   "source": [
    "pyro.clear_param_store()\n",
    "pyro.render_model(tm_bern_guide, model_args=(D, nTopics, nRegions), \n",
    "                  render_distributions=True, render_params=True)"
   ]
  },
  {
   "cell_type": "markdown",
   "id": "f9c9e95a-c118-4bf6-a3ba-270a54880d20",
   "metadata": {},
   "source": [
    "# Testing variational inference"
   ]
  },
  {
   "cell_type": "code",
   "execution_count": 6,
   "id": "0fb8dc76-e515-4181-b6d9-c6e295a01dbd",
   "metadata": {},
   "outputs": [
    {
     "name": "stdout",
     "output_type": "stream",
     "text": [
      "Number of peak regions passing QC threshold: 191\n"
     ]
    }
   ],
   "source": [
    "# Filter to keep only regions with decent coverage\n",
    "#det_thr = 0.1\n",
    "\n",
    "#qc_peak_idx = np.where(np.array(D.mean(axis=1)) > det_thr)[0]\n",
    "#print('Number of peak regions passing QC threshold:', len(qc_peak_idx))\n",
    "#D_filt = D[qc_peak_idx, :]"
   ]
  },
  {
   "cell_type": "markdown",
   "id": "87468a76-efdb-4892-b26b-9626f133d5f3",
   "metadata": {},
   "source": [
    "## Fit LDA \n",
    "\n",
    "To perform inference for TM Bernoulli with use ClippedAdam to optimize a \n",
    "__trace implementation of ELBO-based SVI__ ('TraceEnum_ELBO'), which supports exhaustive enumeration \n",
    "over discrete sample sites, in our case latent topic assignment __z__."
   ]
  },
  {
   "cell_type": "code",
   "execution_count": 8,
   "id": "07dec6bb-e835-46af-b771-0ee335794ee4",
   "metadata": {},
   "outputs": [
    {
     "name": "stderr",
     "output_type": "stream",
     "text": [
      "    16798 ----------------------------------------\n",
      "    16798 Fitting 5 cells\n",
      "    16800 Step\tLoss\n"
     ]
    },
    {
     "name": "stdout",
     "output_type": "stream",
     "text": [
      "z shape = torch.Size([2, 1, 1])\n",
      "z = tensor([[[0]],\n",
      "\n",
      "        [[1]]])\n",
      "tmp shape = torch.Size([2, 3, 5])\n",
      "tmp = tensor([[[0.0489, 0.0489, 0.0489, 0.0489, 0.0489],\n",
      "         [0.5351, 0.5351, 0.5351, 0.5351, 0.5351],\n",
      "         [0.0430, 0.0430, 0.0430, 0.0430, 0.0430]],\n",
      "\n",
      "        [[0.2530, 0.2530, 0.2530, 0.2530, 0.2530],\n",
      "         [0.1255, 0.1255, 0.1255, 0.1255, 0.1255],\n",
      "         [0.8425, 0.8425, 0.8425, 0.8425, 0.8425]]], grad_fn=<IndexBackward0>)\n",
      "phi shape = torch.Size([3, 2])\n",
      "phi = tensor([[0.0489, 0.2530],\n",
      "        [0.5351, 0.1255],\n",
      "        [0.0430, 0.8425]], grad_fn=<SelectBackward0>)\n",
      "w shape = torch.Size([3, 5])\n",
      "w = tensor([[0., 0., 0., 0., 0.],\n",
      "        [0., 1., 1., 1., 0.],\n",
      "        [0., 0., 0., 0., 1.]], dtype=torch.float16)\n"
     ]
    },
    {
     "ename": "RuntimeError",
     "evalue": "\"clamp_min_cpu\" not implemented for 'Half'",
     "output_type": "error",
     "traceback": [
      "\u001b[0;31m---------------------------------------------------------------------------\u001b[0m",
      "\u001b[0;31mRuntimeError\u001b[0m                              Traceback (most recent call last)",
      "Cell \u001b[0;32mIn[8], line 20\u001b[0m\n\u001b[1;32m     18\u001b[0m logging\u001b[38;5;241m.\u001b[39minfo(\u001b[38;5;124m\"\u001b[39m\u001b[38;5;124mStep\u001b[39m\u001b[38;5;130;01m\\t\u001b[39;00m\u001b[38;5;124mLoss\u001b[39m\u001b[38;5;124m\"\u001b[39m)\n\u001b[1;32m     19\u001b[0m \u001b[38;5;28;01mfor\u001b[39;00m step \u001b[38;5;129;01min\u001b[39;00m \u001b[38;5;28mrange\u001b[39m(nSteps):\n\u001b[0;32m---> 20\u001b[0m     loss \u001b[38;5;241m=\u001b[39m \u001b[43msvi\u001b[49m\u001b[38;5;241;43m.\u001b[39;49m\u001b[43mstep\u001b[49m\u001b[43m(\u001b[49m\u001b[43mD\u001b[49m\u001b[38;5;241;43m=\u001b[39;49m\u001b[43mD\u001b[49m\u001b[43m,\u001b[49m\u001b[43m \u001b[49m\u001b[43mnTopics\u001b[49m\u001b[38;5;241;43m=\u001b[39;49m\u001b[43mnTopics\u001b[49m\u001b[43m)\u001b[49m\n\u001b[1;32m     21\u001b[0m     \u001b[38;5;28;01mif\u001b[39;00m step \u001b[38;5;241m%\u001b[39m \u001b[38;5;241m100\u001b[39m \u001b[38;5;241m==\u001b[39m \u001b[38;5;241m0\u001b[39m:\n\u001b[1;32m     22\u001b[0m         logging\u001b[38;5;241m.\u001b[39minfo(\u001b[38;5;124m\"\u001b[39m\u001b[38;5;132;01m{: >5d}\u001b[39;00m\u001b[38;5;130;01m\\t\u001b[39;00m\u001b[38;5;132;01m{}\u001b[39;00m\u001b[38;5;124m\"\u001b[39m\u001b[38;5;241m.\u001b[39mformat(step, loss))\n",
      "File \u001b[0;32m~/miniconda3/envs/stm/lib/python3.10/site-packages/pyro/infer/svi.py:145\u001b[0m, in \u001b[0;36mSVI.step\u001b[0;34m(self, *args, **kwargs)\u001b[0m\n\u001b[1;32m    143\u001b[0m \u001b[38;5;66;03m# get loss and compute gradients\u001b[39;00m\n\u001b[1;32m    144\u001b[0m \u001b[38;5;28;01mwith\u001b[39;00m poutine\u001b[38;5;241m.\u001b[39mtrace(param_only\u001b[38;5;241m=\u001b[39m\u001b[38;5;28;01mTrue\u001b[39;00m) \u001b[38;5;28;01mas\u001b[39;00m param_capture:\n\u001b[0;32m--> 145\u001b[0m     loss \u001b[38;5;241m=\u001b[39m \u001b[38;5;28;43mself\u001b[39;49m\u001b[38;5;241;43m.\u001b[39;49m\u001b[43mloss_and_grads\u001b[49m\u001b[43m(\u001b[49m\u001b[38;5;28;43mself\u001b[39;49m\u001b[38;5;241;43m.\u001b[39;49m\u001b[43mmodel\u001b[49m\u001b[43m,\u001b[49m\u001b[43m \u001b[49m\u001b[38;5;28;43mself\u001b[39;49m\u001b[38;5;241;43m.\u001b[39;49m\u001b[43mguide\u001b[49m\u001b[43m,\u001b[49m\u001b[43m \u001b[49m\u001b[38;5;241;43m*\u001b[39;49m\u001b[43margs\u001b[49m\u001b[43m,\u001b[49m\u001b[43m \u001b[49m\u001b[38;5;241;43m*\u001b[39;49m\u001b[38;5;241;43m*\u001b[39;49m\u001b[43mkwargs\u001b[49m\u001b[43m)\u001b[49m\n\u001b[1;32m    147\u001b[0m params \u001b[38;5;241m=\u001b[39m \u001b[38;5;28mset\u001b[39m(\n\u001b[1;32m    148\u001b[0m     site[\u001b[38;5;124m\"\u001b[39m\u001b[38;5;124mvalue\u001b[39m\u001b[38;5;124m\"\u001b[39m]\u001b[38;5;241m.\u001b[39munconstrained() \u001b[38;5;28;01mfor\u001b[39;00m site \u001b[38;5;129;01min\u001b[39;00m param_capture\u001b[38;5;241m.\u001b[39mtrace\u001b[38;5;241m.\u001b[39mnodes\u001b[38;5;241m.\u001b[39mvalues()\n\u001b[1;32m    149\u001b[0m )\n\u001b[1;32m    151\u001b[0m \u001b[38;5;66;03m# actually perform gradient steps\u001b[39;00m\n\u001b[1;32m    152\u001b[0m \u001b[38;5;66;03m# torch.optim objects gets instantiated for any params that haven't been seen yet\u001b[39;00m\n",
      "File \u001b[0;32m~/miniconda3/envs/stm/lib/python3.10/site-packages/pyro/infer/traceenum_elbo.py:452\u001b[0m, in \u001b[0;36mTraceEnum_ELBO.loss_and_grads\u001b[0;34m(self, model, guide, *args, **kwargs)\u001b[0m\n\u001b[1;32m    450\u001b[0m elbo \u001b[38;5;241m=\u001b[39m \u001b[38;5;241m0.0\u001b[39m\n\u001b[1;32m    451\u001b[0m \u001b[38;5;28;01mfor\u001b[39;00m model_trace, guide_trace \u001b[38;5;129;01min\u001b[39;00m \u001b[38;5;28mself\u001b[39m\u001b[38;5;241m.\u001b[39m_get_traces(model, guide, args, kwargs):\n\u001b[0;32m--> 452\u001b[0m     elbo_particle \u001b[38;5;241m=\u001b[39m \u001b[43m_compute_dice_elbo\u001b[49m\u001b[43m(\u001b[49m\u001b[43mmodel_trace\u001b[49m\u001b[43m,\u001b[49m\u001b[43m \u001b[49m\u001b[43mguide_trace\u001b[49m\u001b[43m)\u001b[49m\n\u001b[1;32m    453\u001b[0m     \u001b[38;5;28;01mif\u001b[39;00m is_identically_zero(elbo_particle):\n\u001b[1;32m    454\u001b[0m         \u001b[38;5;28;01mcontinue\u001b[39;00m\n",
      "File \u001b[0;32m~/miniconda3/envs/stm/lib/python3.10/site-packages/pyro/infer/traceenum_elbo.py:199\u001b[0m, in \u001b[0;36m_compute_dice_elbo\u001b[0;34m(model_trace, guide_trace)\u001b[0m\n\u001b[1;32m    197\u001b[0m \u001b[38;5;28;01mwith\u001b[39;00m shared_intermediates() \u001b[38;5;28;01mas\u001b[39;00m cache:\n\u001b[1;32m    198\u001b[0m     ring \u001b[38;5;241m=\u001b[39m SampleRing(cache\u001b[38;5;241m=\u001b[39mcache, dim_to_size\u001b[38;5;241m=\u001b[39mdim_to_size)\n\u001b[0;32m--> 199\u001b[0m     log_factors \u001b[38;5;241m=\u001b[39m \u001b[43mcontract_tensor_tree\u001b[49m\u001b[43m(\u001b[49m\u001b[43mlog_factors\u001b[49m\u001b[43m,\u001b[49m\u001b[43m \u001b[49m\u001b[43msum_dims\u001b[49m\u001b[43m,\u001b[49m\u001b[43m \u001b[49m\u001b[43mring\u001b[49m\u001b[38;5;241;43m=\u001b[39;49m\u001b[43mring\u001b[49m\u001b[43m)\u001b[49m\n\u001b[1;32m    200\u001b[0m     model_trace\u001b[38;5;241m.\u001b[39m_sharing_cache \u001b[38;5;241m=\u001b[39m cache  \u001b[38;5;66;03m# For TraceEnumSample_ELBO.\u001b[39;00m\n\u001b[1;32m    201\u001b[0m \u001b[38;5;28;01mfor\u001b[39;00m t, log_factors_t \u001b[38;5;129;01min\u001b[39;00m log_factors\u001b[38;5;241m.\u001b[39mitems():\n",
      "File \u001b[0;32m~/miniconda3/envs/stm/lib/python3.10/site-packages/pyro/ops/contract.py:200\u001b[0m, in \u001b[0;36mcontract_tensor_tree\u001b[0;34m(tensor_tree, sum_dims, cache, ring)\u001b[0m\n\u001b[1;32m    197\u001b[0m         component\u001b[38;5;241m.\u001b[39msetdefault(ordinals[term], [])\u001b[38;5;241m.\u001b[39mappend(term)\n\u001b[1;32m    199\u001b[0m     \u001b[38;5;66;03m# Contract this connected component down to a single tensor.\u001b[39;00m\n\u001b[0;32m--> 200\u001b[0m     ordinal, term \u001b[38;5;241m=\u001b[39m \u001b[43m_contract_component\u001b[49m\u001b[43m(\u001b[49m\u001b[43mring\u001b[49m\u001b[43m,\u001b[49m\u001b[43m \u001b[49m\u001b[43mcomponent\u001b[49m\u001b[43m,\u001b[49m\u001b[43m \u001b[49m\u001b[43mdims\u001b[49m\u001b[43m,\u001b[49m\u001b[43m \u001b[49m\u001b[38;5;28;43mset\u001b[39;49m\u001b[43m(\u001b[49m\u001b[43m)\u001b[49m\u001b[43m)\u001b[49m\n\u001b[1;32m    201\u001b[0m     contracted_tree\u001b[38;5;241m.\u001b[39msetdefault(ordinal, [])\u001b[38;5;241m.\u001b[39mappend(term)\n\u001b[1;32m    203\u001b[0m \u001b[38;5;28;01mreturn\u001b[39;00m contracted_tree\n",
      "File \u001b[0;32m~/miniconda3/envs/stm/lib/python3.10/site-packages/pyro/ops/contract.py:125\u001b[0m, in \u001b[0;36m_contract_component\u001b[0;34m(ring, tensor_tree, sum_dims, target_dims)\u001b[0m\n\u001b[1;32m    121\u001b[0m \u001b[38;5;66;03m# Split terms at the current ordinal into connected components.\u001b[39;00m\n\u001b[1;32m    122\u001b[0m \u001b[38;5;28;01mfor\u001b[39;00m terms, dims \u001b[38;5;129;01min\u001b[39;00m _partition_terms(ring, leaf_terms, leaf_dims):\n\u001b[1;32m    123\u001b[0m \n\u001b[1;32m    124\u001b[0m     \u001b[38;5;66;03m# Eliminate sum dims via a sumproduct contraction.\u001b[39;00m\n\u001b[0;32m--> 125\u001b[0m     term \u001b[38;5;241m=\u001b[39m \u001b[43mring\u001b[49m\u001b[38;5;241;43m.\u001b[39;49m\u001b[43msumproduct\u001b[49m\u001b[43m(\u001b[49m\u001b[43mterms\u001b[49m\u001b[43m,\u001b[49m\u001b[43m \u001b[49m\u001b[43mdims\u001b[49m\u001b[43m \u001b[49m\u001b[38;5;241;43m-\u001b[39;49m\u001b[43m \u001b[49m\u001b[43mlocal_dims\u001b[49m\u001b[43m)\u001b[49m\n\u001b[1;32m    127\u001b[0m     \u001b[38;5;66;03m# Eliminate extra plate dims via product contractions.\u001b[39;00m\n\u001b[1;32m    128\u001b[0m     \u001b[38;5;28;01mif\u001b[39;00m leaf \u001b[38;5;241m==\u001b[39m min_ordinal:\n",
      "File \u001b[0;32m~/miniconda3/envs/stm/lib/python3.10/site-packages/pyro/ops/rings.py:199\u001b[0m, in \u001b[0;36mLogRing.sumproduct\u001b[0;34m(self, terms, dims)\u001b[0m\n\u001b[1;32m    197\u001b[0m output \u001b[38;5;241m=\u001b[39m \u001b[38;5;124m\"\u001b[39m\u001b[38;5;124m\"\u001b[39m\u001b[38;5;241m.\u001b[39mjoin(\u001b[38;5;28msorted\u001b[39m(\u001b[38;5;28mset\u001b[39m(\u001b[38;5;124m\"\u001b[39m\u001b[38;5;124m\"\u001b[39m\u001b[38;5;241m.\u001b[39mjoin(inputs)) \u001b[38;5;241m-\u001b[39m \u001b[38;5;28mset\u001b[39m(dims)))\n\u001b[1;32m    198\u001b[0m equation \u001b[38;5;241m=\u001b[39m \u001b[38;5;124m\"\u001b[39m\u001b[38;5;124m,\u001b[39m\u001b[38;5;124m\"\u001b[39m\u001b[38;5;241m.\u001b[39mjoin(inputs) \u001b[38;5;241m+\u001b[39m \u001b[38;5;124m\"\u001b[39m\u001b[38;5;124m->\u001b[39m\u001b[38;5;124m\"\u001b[39m \u001b[38;5;241m+\u001b[39m output\n\u001b[0;32m--> 199\u001b[0m term \u001b[38;5;241m=\u001b[39m \u001b[43mcontract\u001b[49m\u001b[43m(\u001b[49m\u001b[43mequation\u001b[49m\u001b[43m,\u001b[49m\u001b[43m \u001b[49m\u001b[38;5;241;43m*\u001b[39;49m\u001b[43mterms\u001b[49m\u001b[43m,\u001b[49m\u001b[43m \u001b[49m\u001b[43mbackend\u001b[49m\u001b[38;5;241;43m=\u001b[39;49m\u001b[38;5;28;43mself\u001b[39;49m\u001b[38;5;241;43m.\u001b[39;49m\u001b[43m_backend\u001b[49m\u001b[43m)\u001b[49m\n\u001b[1;32m    200\u001b[0m term\u001b[38;5;241m.\u001b[39m_pyro_dims \u001b[38;5;241m=\u001b[39m output\n\u001b[1;32m    201\u001b[0m \u001b[38;5;28;01mreturn\u001b[39;00m term\n",
      "File \u001b[0;32m~/miniconda3/envs/stm/lib/python3.10/site-packages/pyro/ops/einsum/__init__.py:46\u001b[0m, in \u001b[0;36mcontract\u001b[0;34m(equation, *operands, **kwargs)\u001b[0m\n\u001b[1;32m     44\u001b[0m \u001b[38;5;28;01mwith\u001b[39;00m ignore_jit_warnings():\n\u001b[1;32m     45\u001b[0m     expr \u001b[38;5;241m=\u001b[39m contract_expression(equation, \u001b[38;5;241m*\u001b[39mshapes)\n\u001b[0;32m---> 46\u001b[0m     \u001b[38;5;28;01mreturn\u001b[39;00m \u001b[43mexpr\u001b[49m\u001b[43m(\u001b[49m\u001b[38;5;241;43m*\u001b[39;49m\u001b[43moperands\u001b[49m\u001b[43m,\u001b[49m\u001b[43m \u001b[49m\u001b[43mbackend\u001b[49m\u001b[38;5;241;43m=\u001b[39;49m\u001b[43mbackend\u001b[49m\u001b[43m,\u001b[49m\u001b[43m \u001b[49m\u001b[43mout\u001b[49m\u001b[38;5;241;43m=\u001b[39;49m\u001b[43mout\u001b[49m\u001b[43m)\u001b[49m\n",
      "File \u001b[0;32m~/miniconda3/envs/stm/lib/python3.10/site-packages/opt_einsum/contract.py:763\u001b[0m, in \u001b[0;36mContractExpression.__call__\u001b[0;34m(self, *arrays, **kwargs)\u001b[0m\n\u001b[1;32m    760\u001b[0m     \u001b[38;5;28;01mif\u001b[39;00m backends\u001b[38;5;241m.\u001b[39mhas_backend(backend) \u001b[38;5;129;01mand\u001b[39;00m \u001b[38;5;28mall\u001b[39m(\u001b[38;5;28misinstance\u001b[39m(x, np\u001b[38;5;241m.\u001b[39mndarray) \u001b[38;5;28;01mfor\u001b[39;00m x \u001b[38;5;129;01min\u001b[39;00m arrays):\n\u001b[1;32m    761\u001b[0m         \u001b[38;5;28;01mreturn\u001b[39;00m \u001b[38;5;28mself\u001b[39m\u001b[38;5;241m.\u001b[39m_contract_with_conversion(ops, out, backend, evaluate_constants\u001b[38;5;241m=\u001b[39mevaluate_constants)\n\u001b[0;32m--> 763\u001b[0m     \u001b[38;5;28;01mreturn\u001b[39;00m \u001b[38;5;28;43mself\u001b[39;49m\u001b[38;5;241;43m.\u001b[39;49m\u001b[43m_contract\u001b[49m\u001b[43m(\u001b[49m\u001b[43mops\u001b[49m\u001b[43m,\u001b[49m\u001b[43m \u001b[49m\u001b[43mout\u001b[49m\u001b[43m,\u001b[49m\u001b[43m \u001b[49m\u001b[43mbackend\u001b[49m\u001b[43m,\u001b[49m\u001b[43m \u001b[49m\u001b[43mevaluate_constants\u001b[49m\u001b[38;5;241;43m=\u001b[39;49m\u001b[43mevaluate_constants\u001b[49m\u001b[43m)\u001b[49m\n\u001b[1;32m    765\u001b[0m \u001b[38;5;28;01mexcept\u001b[39;00m \u001b[38;5;167;01mValueError\u001b[39;00m \u001b[38;5;28;01mas\u001b[39;00m err:\n\u001b[1;32m    766\u001b[0m     original_msg \u001b[38;5;241m=\u001b[39m \u001b[38;5;28mstr\u001b[39m(err\u001b[38;5;241m.\u001b[39margs) \u001b[38;5;28;01mif\u001b[39;00m err\u001b[38;5;241m.\u001b[39margs \u001b[38;5;28;01melse\u001b[39;00m \u001b[38;5;124m\"\u001b[39m\u001b[38;5;124m\"\u001b[39m\n",
      "File \u001b[0;32m~/miniconda3/envs/stm/lib/python3.10/site-packages/opt_einsum/contract.py:693\u001b[0m, in \u001b[0;36mContractExpression._contract\u001b[0;34m(self, arrays, out, backend, evaluate_constants)\u001b[0m\n\u001b[1;32m    689\u001b[0m \u001b[38;5;124;03m\"\"\"The normal, core contraction.\u001b[39;00m\n\u001b[1;32m    690\u001b[0m \u001b[38;5;124;03m\"\"\"\u001b[39;00m\n\u001b[1;32m    691\u001b[0m contraction_list \u001b[38;5;241m=\u001b[39m \u001b[38;5;28mself\u001b[39m\u001b[38;5;241m.\u001b[39m_full_contraction_list \u001b[38;5;28;01mif\u001b[39;00m evaluate_constants \u001b[38;5;28;01melse\u001b[39;00m \u001b[38;5;28mself\u001b[39m\u001b[38;5;241m.\u001b[39mcontraction_list\n\u001b[0;32m--> 693\u001b[0m \u001b[38;5;28;01mreturn\u001b[39;00m \u001b[43m_core_contract\u001b[49m\u001b[43m(\u001b[49m\u001b[38;5;28;43mlist\u001b[39;49m\u001b[43m(\u001b[49m\u001b[43marrays\u001b[49m\u001b[43m)\u001b[49m\u001b[43m,\u001b[49m\n\u001b[1;32m    694\u001b[0m \u001b[43m                      \u001b[49m\u001b[43mcontraction_list\u001b[49m\u001b[43m,\u001b[49m\n\u001b[1;32m    695\u001b[0m \u001b[43m                      \u001b[49m\u001b[43mout\u001b[49m\u001b[38;5;241;43m=\u001b[39;49m\u001b[43mout\u001b[49m\u001b[43m,\u001b[49m\n\u001b[1;32m    696\u001b[0m \u001b[43m                      \u001b[49m\u001b[43mbackend\u001b[49m\u001b[38;5;241;43m=\u001b[39;49m\u001b[43mbackend\u001b[49m\u001b[43m,\u001b[49m\n\u001b[1;32m    697\u001b[0m \u001b[43m                      \u001b[49m\u001b[43mevaluate_constants\u001b[49m\u001b[38;5;241;43m=\u001b[39;49m\u001b[43mevaluate_constants\u001b[49m\u001b[43m,\u001b[49m\n\u001b[1;32m    698\u001b[0m \u001b[43m                      \u001b[49m\u001b[38;5;241;43m*\u001b[39;49m\u001b[38;5;241;43m*\u001b[39;49m\u001b[38;5;28;43mself\u001b[39;49m\u001b[38;5;241;43m.\u001b[39;49m\u001b[43meinsum_kwargs\u001b[49m\u001b[43m)\u001b[49m\n",
      "File \u001b[0;32m~/miniconda3/envs/stm/lib/python3.10/site-packages/opt_einsum/contract.py:591\u001b[0m, in \u001b[0;36m_core_contract\u001b[0;34m(operands, contraction_list, backend, evaluate_constants, **einsum_kwargs)\u001b[0m\n\u001b[1;32m    588\u001b[0m         einsum_kwargs[\u001b[38;5;124m\"\u001b[39m\u001b[38;5;124mout\u001b[39m\u001b[38;5;124m\"\u001b[39m] \u001b[38;5;241m=\u001b[39m out_array\n\u001b[1;32m    590\u001b[0m     \u001b[38;5;66;03m# Do the contraction\u001b[39;00m\n\u001b[0;32m--> 591\u001b[0m     new_view \u001b[38;5;241m=\u001b[39m \u001b[43m_einsum\u001b[49m\u001b[43m(\u001b[49m\u001b[43meinsum_str\u001b[49m\u001b[43m,\u001b[49m\u001b[43m \u001b[49m\u001b[38;5;241;43m*\u001b[39;49m\u001b[43mtmp_operands\u001b[49m\u001b[43m,\u001b[49m\u001b[43m \u001b[49m\u001b[43mbackend\u001b[49m\u001b[38;5;241;43m=\u001b[39;49m\u001b[43mbackend\u001b[49m\u001b[43m,\u001b[49m\u001b[43m \u001b[49m\u001b[38;5;241;43m*\u001b[39;49m\u001b[38;5;241;43m*\u001b[39;49m\u001b[43meinsum_kwargs\u001b[49m\u001b[43m)\u001b[49m\n\u001b[1;32m    593\u001b[0m \u001b[38;5;66;03m# Append new items and dereference what we can\u001b[39;00m\n\u001b[1;32m    594\u001b[0m operands\u001b[38;5;241m.\u001b[39mappend(new_view)\n",
      "File \u001b[0;32m~/miniconda3/envs/stm/lib/python3.10/site-packages/opt_einsum/sharing.py:168\u001b[0m, in \u001b[0;36meinsum_cache_wrap.<locals>.cached_einsum\u001b[0;34m(*args, **kwargs)\u001b[0m\n\u001b[1;32m    165\u001b[0m canonical_equation \u001b[38;5;241m=\u001b[39m alpha_canonicalize(canonical_inputs \u001b[38;5;241m+\u001b[39m \u001b[38;5;124m\"\u001b[39m\u001b[38;5;124m->\u001b[39m\u001b[38;5;124m\"\u001b[39m \u001b[38;5;241m+\u001b[39m output)\n\u001b[1;32m    167\u001b[0m key \u001b[38;5;241m=\u001b[39m \u001b[38;5;124m'\u001b[39m\u001b[38;5;124meinsum\u001b[39m\u001b[38;5;124m'\u001b[39m, backend, canonical_equation, canonical_ids\n\u001b[0;32m--> 168\u001b[0m \u001b[38;5;28;01mreturn\u001b[39;00m \u001b[43m_memoize\u001b[49m\u001b[43m(\u001b[49m\u001b[43mkey\u001b[49m\u001b[43m,\u001b[49m\u001b[43m \u001b[49m\u001b[43meinsum\u001b[49m\u001b[43m,\u001b[49m\u001b[43m \u001b[49m\u001b[43mequation\u001b[49m\u001b[43m,\u001b[49m\u001b[43m \u001b[49m\u001b[38;5;241;43m*\u001b[39;49m\u001b[43moperands\u001b[49m\u001b[43m,\u001b[49m\u001b[43m \u001b[49m\u001b[43mbackend\u001b[49m\u001b[38;5;241;43m=\u001b[39;49m\u001b[43mbackend\u001b[49m\u001b[43m)\u001b[49m\n",
      "File \u001b[0;32m~/miniconda3/envs/stm/lib/python3.10/site-packages/opt_einsum/sharing.py:101\u001b[0m, in \u001b[0;36m_memoize\u001b[0;34m(key, fn, *args, **kwargs)\u001b[0m\n\u001b[1;32m     99\u001b[0m \u001b[38;5;28;01mif\u001b[39;00m key \u001b[38;5;129;01min\u001b[39;00m cache:\n\u001b[1;32m    100\u001b[0m     \u001b[38;5;28;01mreturn\u001b[39;00m cache[key]\n\u001b[0;32m--> 101\u001b[0m result \u001b[38;5;241m=\u001b[39m \u001b[43mfn\u001b[49m\u001b[43m(\u001b[49m\u001b[38;5;241;43m*\u001b[39;49m\u001b[43margs\u001b[49m\u001b[43m,\u001b[49m\u001b[43m \u001b[49m\u001b[38;5;241;43m*\u001b[39;49m\u001b[38;5;241;43m*\u001b[39;49m\u001b[43mkwargs\u001b[49m\u001b[43m)\u001b[49m\n\u001b[1;32m    102\u001b[0m cache[key] \u001b[38;5;241m=\u001b[39m result\n\u001b[1;32m    103\u001b[0m \u001b[38;5;28;01mreturn\u001b[39;00m result\n",
      "File \u001b[0;32m~/miniconda3/envs/stm/lib/python3.10/site-packages/opt_einsum/contract.py:353\u001b[0m, in \u001b[0;36m_einsum\u001b[0;34m(*operands, **kwargs)\u001b[0m\n\u001b[1;32m    349\u001b[0m         einsum_str \u001b[38;5;241m+\u001b[39m\u001b[38;5;241m=\u001b[39m \u001b[38;5;124m'\u001b[39m\u001b[38;5;124m->\u001b[39m\u001b[38;5;124m'\u001b[39m \u001b[38;5;241m+\u001b[39m parser\u001b[38;5;241m.\u001b[39mfind_output_str(einsum_str)\n\u001b[1;32m    351\u001b[0m     einsum_str \u001b[38;5;241m=\u001b[39m parser\u001b[38;5;241m.\u001b[39mconvert_to_valid_einsum_chars(einsum_str)\n\u001b[0;32m--> 353\u001b[0m \u001b[38;5;28;01mreturn\u001b[39;00m \u001b[43mfn\u001b[49m\u001b[43m(\u001b[49m\u001b[43meinsum_str\u001b[49m\u001b[43m,\u001b[49m\u001b[43m \u001b[49m\u001b[38;5;241;43m*\u001b[39;49m\u001b[43moperands\u001b[49m\u001b[43m,\u001b[49m\u001b[43m \u001b[49m\u001b[38;5;241;43m*\u001b[39;49m\u001b[38;5;241;43m*\u001b[39;49m\u001b[43mkwargs\u001b[49m\u001b[43m)\u001b[49m\n",
      "File \u001b[0;32m~/miniconda3/envs/stm/lib/python3.10/site-packages/pyro/ops/einsum/torch_sample.py:68\u001b[0m, in \u001b[0;36meinsum\u001b[0;34m(equation, *operands)\u001b[0m\n\u001b[1;32m     66\u001b[0m equation \u001b[38;5;241m=\u001b[39m packed\u001b[38;5;241m.\u001b[39mrename_equation(equation, \u001b[38;5;241m*\u001b[39moperands)\n\u001b[1;32m     67\u001b[0m inputs, output \u001b[38;5;241m=\u001b[39m equation\u001b[38;5;241m.\u001b[39msplit(\u001b[38;5;124m\"\u001b[39m\u001b[38;5;124m->\u001b[39m\u001b[38;5;124m\"\u001b[39m)\n\u001b[0;32m---> 68\u001b[0m result \u001b[38;5;241m=\u001b[39m \u001b[43mpyro\u001b[49m\u001b[38;5;241;43m.\u001b[39;49m\u001b[43mops\u001b[49m\u001b[38;5;241;43m.\u001b[39;49m\u001b[43meinsum\u001b[49m\u001b[38;5;241;43m.\u001b[39;49m\u001b[43mtorch_log\u001b[49m\u001b[38;5;241;43m.\u001b[39;49m\u001b[43meinsum\u001b[49m\u001b[43m(\u001b[49m\u001b[43mequation\u001b[49m\u001b[43m,\u001b[49m\u001b[43m \u001b[49m\u001b[38;5;241;43m*\u001b[39;49m\u001b[43moperands\u001b[49m\u001b[43m)\u001b[49m\n\u001b[1;32m     69\u001b[0m result\u001b[38;5;241m.\u001b[39m_pyro_dims \u001b[38;5;241m=\u001b[39m output\n\u001b[1;32m     70\u001b[0m \u001b[38;5;28;01massert\u001b[39;00m result\u001b[38;5;241m.\u001b[39mdim() \u001b[38;5;241m==\u001b[39m \u001b[38;5;28mlen\u001b[39m(result\u001b[38;5;241m.\u001b[39m_pyro_dims)\n",
      "File \u001b[0;32m~/miniconda3/envs/stm/lib/python3.10/site-packages/pyro/ops/einsum/torch_log.py:40\u001b[0m, in \u001b[0;36meinsum\u001b[0;34m(equation, *operands)\u001b[0m\n\u001b[1;32m     38\u001b[0m         shift \u001b[38;5;241m=\u001b[39m shift\u001b[38;5;241m.\u001b[39mmax(i, keepdim\u001b[38;5;241m=\u001b[39m\u001b[38;5;28;01mTrue\u001b[39;00m)[\u001b[38;5;241m0\u001b[39m]\n\u001b[1;32m     39\u001b[0m \u001b[38;5;66;03m# avoid nan due to -inf - -inf\u001b[39;00m\n\u001b[0;32m---> 40\u001b[0m shift \u001b[38;5;241m=\u001b[39m \u001b[43mshift\u001b[49m\u001b[38;5;241;43m.\u001b[39;49m\u001b[43mclamp\u001b[49m\u001b[43m(\u001b[49m\u001b[38;5;28;43mmin\u001b[39;49m\u001b[38;5;241;43m=\u001b[39;49m\u001b[43mtorch\u001b[49m\u001b[38;5;241;43m.\u001b[39;49m\u001b[43mfinfo\u001b[49m\u001b[43m(\u001b[49m\u001b[43mshift\u001b[49m\u001b[38;5;241;43m.\u001b[39;49m\u001b[43mdtype\u001b[49m\u001b[43m)\u001b[49m\u001b[38;5;241;43m.\u001b[39;49m\u001b[43mmin\u001b[49m\u001b[43m)\u001b[49m\n\u001b[1;32m     41\u001b[0m exp_operands\u001b[38;5;241m.\u001b[39mappend((operand \u001b[38;5;241m-\u001b[39m shift)\u001b[38;5;241m.\u001b[39mexp())\n\u001b[1;32m     43\u001b[0m \u001b[38;5;66;03m# permute shift to match output\u001b[39;00m\n",
      "\u001b[0;31mRuntimeError\u001b[0m: \"clamp_min_cpu\" not implemented for 'Half'"
     ]
    }
   ],
   "source": [
    "nTopics = 2\n",
    "nSteps = 1000\n",
    "lr = 0.1\n",
    "seed = 123\n",
    "\n",
    "pyro.set_rng_seed(seed)\n",
    "pyro.clear_param_store()\n",
    "\n",
    "# We'll fit using SVI.\n",
    "logging.info(\"-\" * 40)\n",
    "logging.info(\"Fitting {} cells\".format(D.shape[1]))\n",
    "\n",
    "elbo = pyro.infer.TraceEnum_ELBO(max_plate_nesting=2)\n",
    "optim = pyro.optim.Adam({\"lr\": lr, 'weight_decay':0.01})\n",
    "svi = pyro.infer.SVI(tm_bern_model, tm_bern_guide, optim, elbo)\n",
    "losses = []\n",
    "\n",
    "logging.info(\"Step\\tLoss\")\n",
    "for step in range(nSteps):\n",
    "    loss = svi.step(D=D, nTopics=nTopics)\n",
    "    if step % 100 == 0:\n",
    "        logging.info(\"{: >5d}\\t{}\".format(step, loss))\n",
    "    losses.append(loss)\n",
    "logging.info(\"final loss = {}\".format(loss))"
   ]
  },
  {
   "cell_type": "markdown",
   "id": "1c4a2bb3-827d-4ad1-9d9c-cd8dd904114c",
   "metadata": {},
   "source": [
    "Here we plot the elbo loss during optimisation"
   ]
  },
  {
   "cell_type": "code",
   "execution_count": 25,
   "id": "cb9fe448-634f-4eaf-8114-cc8a92c5abf8",
   "metadata": {},
   "outputs": [
    {
     "data": {
      "text/plain": [
       "Text(0, 0.5, 'ELBO loss')"
      ]
     },
     "execution_count": 25,
     "metadata": {},
     "output_type": "execute_result"
    },
    {
     "data": {
      "image/png": "[encoded data removed]",
      "text/plain": [
       "<Figure size 500x200 with 1 Axes>"
      ]
     },
     "metadata": {},
     "output_type": "display_data"
    }
   ],
   "source": [
    "plt.figure(figsize=(5, 2))\n",
    "plt.plot(losses)\n",
    "plt.xlabel(\"SVI step\")\n",
    "plt.ylabel(\"ELBO loss\")"
   ]
  },
  {
   "cell_type": "markdown",
   "id": "de336f2a-233a-40b9-b043-6e28481bed86",
   "metadata": {},
   "source": [
    "## Assessing inferred parameters\n",
    "\n",
    "Below we show estimates of the inferred model parameters. To show this, here I am just taking a sample from the \n",
    "posterior fit (i.e. calling the guide with the optimized set of variational parameters). Surely this is not the optimal way to summarise the posterior fit. \n",
    "\n",
    "__However__, if I take multiple samples from the posterior and subseqently summarise the posterior samples (e.g. by median), due to label switching that occurs when sampling \n",
    "$\\theta \\sim Dir(\\alpha)$, the posterior mode will be useless. \n",
    "\n",
    "__TODO__ \n",
    "\n",
    "1. Define a better way to summarize the posterior distribution from posterior samples. E.g. by fixing the label switching problem, post-hoc after sampling from the posterior (similar approach to mixture models).\n",
    "2. Make posterior predictive checks.\n",
    "3. Need to understand Pyro's `poutine`.\n"
   ]
  },
  {
   "cell_type": "code",
   "execution_count": 10,
   "id": "b748222f-eb80-41b0-8393-9be926f02eaf",
   "metadata": {},
   "outputs": [
    {
     "data": {
      "text/plain": [
       "tensor([[ 0.3965,  0.3808],\n",
       "        [ 0.0897, -0.2738],\n",
       "        [-0.3156, -0.0472],\n",
       "        [ 0.5523,  0.2615],\n",
       "        [-0.7903, -0.9836],\n",
       "        [-1.1578, -1.3414],\n",
       "        [-0.8630, -0.7810],\n",
       "        [-0.2613, -0.2607],\n",
       "        [-0.6136, -0.7556],\n",
       "        [-1.8363, -1.9187],\n",
       "        [-0.8989, -0.8888],\n",
       "        [-0.2882, -0.1666],\n",
       "        [ 0.5097,  0.4806],\n",
       "        [-1.4501, -1.4437],\n",
       "        [-0.9401, -1.0742],\n",
       "        [ 0.2279,  0.0569],\n",
       "        [-0.9140, -0.9538],\n",
       "        [-0.1970,  0.0837],\n",
       "        [-0.6189, -0.4073],\n",
       "        [-2.4362, -2.6429],\n",
       "        [-0.6225, -0.4860],\n",
       "        [ 0.2786,  0.4633],\n",
       "        [-0.6842, -0.7221],\n",
       "        [-0.8933, -0.7476],\n",
       "        [-0.5384, -0.4713],\n",
       "        [-0.9788, -0.7927],\n",
       "        [ 0.5900,  0.8130],\n",
       "        [-0.3655, -0.3091],\n",
       "        [-0.0072,  0.0619],\n",
       "        [-2.9069, -2.7371],\n",
       "        [-0.2159, -0.1788],\n",
       "        [ 0.1645,  0.2243],\n",
       "        [-0.8787, -1.0850],\n",
       "        [-1.1119, -1.1641],\n",
       "        [-0.4558, -0.3514],\n",
       "        [-1.1739, -1.1650],\n",
       "        [-1.1723, -1.1272],\n",
       "        [-1.0768, -0.7776],\n",
       "        [ 0.3646,  0.1970],\n",
       "        [ 0.5107,  0.3660],\n",
       "        [ 0.1374,  0.1632],\n",
       "        [-0.6740, -0.6014],\n",
       "        [-1.3504, -1.2646],\n",
       "        [-1.7289, -1.7372],\n",
       "        [ 0.2262, -0.1112],\n",
       "        [ 0.6699,  0.6377],\n",
       "        [ 0.9955,  1.0941],\n",
       "        [-0.0951,  0.0900],\n",
       "        [-1.1421, -0.9029],\n",
       "        [-0.2403,  0.1048],\n",
       "        [-1.5233, -1.4434],\n",
       "        [-0.3781, -0.1778],\n",
       "        [-0.1320,  0.0531],\n",
       "        [ 0.0140,  0.2858],\n",
       "        [-0.1712,  0.0605],\n",
       "        [-2.1524, -2.5524],\n",
       "        [ 0.6912,  0.9718],\n",
       "        [ 0.5802,  0.3763],\n",
       "        [-0.8885, -0.8126],\n",
       "        [ 0.2324,  0.0911],\n",
       "        [ 0.0036,  0.0423],\n",
       "        [ 0.5663,  0.5919],\n",
       "        [-0.7651, -0.8887],\n",
       "        [-0.1520,  0.3056],\n",
       "        [-1.0287, -0.6902],\n",
       "        [ 0.9048,  1.0848],\n",
       "        [ 0.4980,  0.4878],\n",
       "        [-0.7139, -0.9514],\n",
       "        [ 1.2343,  1.2378],\n",
       "        [ 0.3558,  0.1745],\n",
       "        [-0.1014, -0.2615],\n",
       "        [-0.6248, -0.7393],\n",
       "        [-1.5724, -1.9114],\n",
       "        [ 0.1156, -0.1557],\n",
       "        [-0.6086, -0.6467],\n",
       "        [-0.5549, -0.5202],\n",
       "        [-0.1091,  0.0476],\n",
       "        [ 0.2681,  0.1160],\n",
       "        [-0.8568, -0.9402],\n",
       "        [-0.7582, -0.8346],\n",
       "        [-0.0387, -0.2090],\n",
       "        [-0.1815, -0.0753],\n",
       "        [-1.4442, -1.4189],\n",
       "        [-1.7038, -2.2095],\n",
       "        [-2.4246, -2.3862],\n",
       "        [-2.2485, -2.0087],\n",
       "        [ 0.1377,  0.0063],\n",
       "        [-1.4965, -1.8367],\n",
       "        [-1.6733, -1.8216],\n",
       "        [-0.2737, -0.3185],\n",
       "        [ 0.5917,  0.4679],\n",
       "        [-1.3772, -1.2565],\n",
       "        [-0.5228, -0.9735],\n",
       "        [-0.7131, -0.7857],\n",
       "        [-0.0855, -0.3931],\n",
       "        [ 0.0140,  0.1022],\n",
       "        [-0.2912, -0.4315],\n",
       "        [ 0.2597, -0.1303],\n",
       "        [-1.0826, -1.6204],\n",
       "        [-0.5728, -0.9132]])"
      ]
     },
     "execution_count": 10,
     "metadata": {},
     "output_type": "execute_result"
    }
   ],
   "source": [
    "pyro.param(\"phi_vi\").detach()"
   ]
  },
  {
   "cell_type": "code",
   "execution_count": null,
   "id": "e9bff42d-3f25-4828-bd8f-3d680fb43770",
   "metadata": {},
   "outputs": [],
   "source": [
    "#for name, value in pyro.get_param_store().items():\n",
    "#    print(name, pyro.param(name).data.cpu().numpy())"
   ]
  },
  {
   "cell_type": "code",
   "execution_count": 11,
   "id": "248364a0-37ce-4b4b-b12e-59fd45c708e7",
   "metadata": {},
   "outputs": [
    {
     "data": {
      "text/plain": [
       "tensor([[3.1986, 0.2766],\n",
       "        [0.9792, 0.3889],\n",
       "        [0.7634, 0.6206],\n",
       "        [0.8869, 0.3890],\n",
       "        [0.4479, 4.7040],\n",
       "        [0.7752, 0.7499],\n",
       "        [0.7921, 0.5903],\n",
       "        [0.3184, 1.4236],\n",
       "        [0.7129, 1.4579]])"
      ]
     },
     "execution_count": 11,
     "metadata": {},
     "output_type": "execute_result"
    }
   ],
   "source": [
    "pyro.param(\"theta_vi\").detach()[1:10, :]"
   ]
  },
  {
   "cell_type": "code",
   "execution_count": 13,
   "id": "d5b78f55-41f7-4cdf-a1b9-bac8fcf256b1",
   "metadata": {},
   "outputs": [],
   "source": [
    "# A single sample from the guide\n",
    "post_sample = tm_bern_guide(D = D, nTopics = nTopics)"
   ]
  },
  {
   "cell_type": "code",
   "execution_count": 15,
   "id": "3b6b5dff-eef1-4dde-ba6e-87ab73061754",
   "metadata": {},
   "outputs": [
    {
     "data": {
      "text/plain": [
       "tensor([[3.4710e-01, 6.5290e-01],\n",
       "        [7.8029e-01, 2.1971e-01],\n",
       "        [5.0001e-01, 4.9999e-01],\n",
       "        [1.0000e+00, 3.5922e-08],\n",
       "        [6.3692e-01, 3.6308e-01],\n",
       "        [1.7092e-01, 8.2908e-01],\n",
       "        [1.3939e-01, 8.6061e-01],\n",
       "        [1.0000e+00, 2.0256e-12],\n",
       "        [5.7413e-02, 9.4259e-01]])"
      ]
     },
     "execution_count": 15,
     "metadata": {},
     "output_type": "execute_result"
    }
   ],
   "source": [
    "theta[1:10, ] # first 10 cells prob assignments to each topic"
   ]
  },
  {
   "cell_type": "code",
   "execution_count": 16,
   "id": "5657c854-675e-478d-b0eb-666f9c35d3f0",
   "metadata": {},
   "outputs": [
    {
     "data": {
      "text/plain": [
       "tensor([[0.9634, 0.0366],\n",
       "        [0.8146, 0.1854],\n",
       "        [0.7234, 0.2766],\n",
       "        [0.0655, 0.9345],\n",
       "        [0.0095, 0.9905],\n",
       "        [0.1407, 0.8593],\n",
       "        [0.8495, 0.1505],\n",
       "        [0.3909, 0.6091],\n",
       "        [0.3546, 0.6454]], grad_fn=<SliceBackward0>)"
      ]
     },
     "execution_count": 16,
     "metadata": {},
     "output_type": "execute_result"
    }
   ],
   "source": [
    "post_sample['theta'][1:10, :] # posterior theta"
   ]
  },
  {
   "cell_type": "code",
   "execution_count": null,
   "id": "3bd253cd-8229-4de7-940d-dd97f3e2ab39",
   "metadata": {},
   "outputs": [],
   "source": [
    "post_sample['phi'][:, 1:10].detach().numpy().transpose() # posterior phi"
   ]
  },
  {
   "cell_type": "code",
   "execution_count": null,
   "id": "2291bc3b-b355-4227-a915-cfacff846324",
   "metadata": {},
   "outputs": [],
   "source": [
    "d_str = []\n",
    "for n in range(60):\n",
    "    d_str.append('w{}'.format(n))\n",
    "vocab = pd.DataFrame(columns=['id', 'index'])\n",
    "vocab['id'] = d_str\n",
    "vocab['index'] = vocab.index"
   ]
  },
  {
   "cell_type": "code",
   "execution_count": null,
   "id": "a381e9c2-540b-4a71-9d80-43b1f9a6bc55",
   "metadata": {},
   "outputs": [],
   "source": [
    "vocab"
   ]
  },
  {
   "cell_type": "code",
   "execution_count": null,
   "id": "3ce7235d-0bee-4423-bcc5-4415f34ebee8",
   "metadata": {},
   "outputs": [],
   "source": [
    "def plot_word_cloud(phi, vocab, max_ids, ax, title):\n",
    "    \"\"\"\n",
    "    Word cloud visualisation helpful for interpreting topic-word distributions\n",
    "\n",
    "    :param phi: Vector of word probabilities for specific topic\n",
    "    :param vocab: Vocabulary array with columns ('id', 'index')\n",
    "    :param max_ids: Maximum number of word ids to plot.\n",
    "    :param ax: Axis object\n",
    "    :param title: Plot title\n",
    "    \"\"\"\n",
    "    sorted_, indices = torch.sort(phi, descending=True)\n",
    "    df = pd.DataFrame(indices[:max_ids].numpy(), columns=['index'])\n",
    "    words = pd.merge(df, vocab[['index', 'id']],\n",
    "                     how='left', on='index')['id'].values.tolist()\n",
    "    sizes = (sorted_[:100] * 10).int().numpy().tolist()\n",
    "    freqs = {words[i]: sizes[i] for i in range(len(words))}\n",
    "    wc = WordCloud(background_color=\"white\", width=800, height=500)\n",
    "    wc = wc.generate_from_frequencies(freqs)\n",
    "    ax.set_title(title)\n",
    "    ax.imshow(wc, interpolation='bilinear')\n",
    "    ax.axis(\"off\")\n",
    "    \n",
    "phi = post_sample['phi']\n",
    "fig, axs = plt.subplots(2, 2, figsize=(5, 5))\n",
    "for n in range(phi.shape[0]):\n",
    "    i, j = divmod(n, 2)\n",
    "    plot_word_cloud(scale_zero_one(phi[n]), vocab, 20, axs[i, j], 'Topic %d' % (n + 1))\n",
    "\n",
    "plt.show()"
   ]
  },
  {
   "cell_type": "code",
   "execution_count": null,
   "id": "66d53147-19ea-43ee-ab10-a8b658ad8fb6",
   "metadata": {},
   "outputs": [],
   "source": [
    "fig, axs = plt.subplots(2, 2, figsize=(5, 5))\n",
    "for n in range(obj_sim['phi_true'].shape[0]):\n",
    "    i, j = divmod(n, 3)\n",
    "    plot_word_cloud(scale_zero_one(obj_sim['phi_true'][n]), vocab, 20, axs[i, j], 'Topic %d' % (n + 1))\n",
    "axs[-1, -1].axis('off');\n",
    "\n",
    "plt.show()"
   ]
  },
  {
   "cell_type": "markdown",
   "id": "4ecd7627-9a40-41a0-85a0-7c7869ce6a3c",
   "metadata": {},
   "source": [
    "## Automatic Delta guide"
   ]
  },
  {
   "cell_type": "code",
   "execution_count": null,
   "id": "358da2e9-91cb-4195-b47a-5617af27d117",
   "metadata": {},
   "outputs": [],
   "source": [
    "# Simulate data\n",
    "nTopics = 2    # Topics\n",
    "nCells = 1000    # Cells\n",
    "nRegions = 200 # Regions\n",
    "N = [100] * nCells # Cells size\n",
    "a = [1/5] * nTopics\n",
    "b = [1/10] * nRegions\n",
    "# Simulate data\n",
    "obj = simulate_lda_dataset(nTopics = nTopics, nCells = nCells, \n",
    "                           nRegions = nRegions, N = N, \n",
    "                           a = a, b = b)\n",
    "# transpose so it matches Pyro's input\n",
    "D = torch.from_numpy(obj['D'].transpose())"
   ]
  },
  {
   "cell_type": "code",
   "execution_count": null,
   "id": "c5dd5132-775d-4486-bd99-88b523209d6b",
   "metadata": {},
   "outputs": [],
   "source": [
    "auto_guide = AutoDelta(poutine.block(lda_model, expose=['theta', 'phi']))\n",
    "pyro.render_model(auto_guide, model_args=(D, nTopics, nRegions), \n",
    "                  render_distributions=True, render_params=True)"
   ]
  },
  {
   "cell_type": "code",
   "execution_count": null,
   "id": "48b40769-6a54-46ee-bcaa-19eecabe8535",
   "metadata": {},
   "outputs": [],
   "source": [
    "obj['theta_true'][1:10, ] # first 10 cells prob assignments to each topic"
   ]
  },
  {
   "cell_type": "code",
   "execution_count": null,
   "id": "fc7ac2cd-8f7f-4149-85e3-a920ec0ea29f",
   "metadata": {},
   "outputs": [],
   "source": [
    "obj['phi_true'][:, 1:10].transpose() # first 10 region-topic probs"
   ]
  },
  {
   "cell_type": "markdown",
   "id": "9d4809ca-a28a-42cd-abe1-355b5902f85e",
   "metadata": {},
   "source": [
    "### Fit auto LDA"
   ]
  },
  {
   "cell_type": "code",
   "execution_count": null,
   "id": "fd1e120b-a0eb-46b9-b383-53b467889c11",
   "metadata": {},
   "outputs": [],
   "source": [
    "def fit_auto_lda(D, nTopics, nRegions, nSteps = 1000, lr = 0.01, seed = 1):\n",
    "    \"\"\"\n",
    "    Fit auto LDA\n",
    "    \"\"\"\n",
    "    pyro.set_rng_seed(seed)\n",
    "    pyro.clear_param_store()\n",
    "\n",
    "    # We'll fit using SVI.\n",
    "    logging.info(\"-\" * 40)\n",
    "    logging.info(\"Fitting {} cells\".format(D.shape[1]))\n",
    "\n",
    "    elbo = pyro.infer.TraceEnum_ELBO(max_plate_nesting=2)\n",
    "    optim = pyro.optim.Adam({\"lr\": lr})\n",
    "    svi = pyro.infer.SVI(lda_model, auto_guide, optim, elbo)\n",
    "    losses = []\n",
    "    \n",
    "    logging.info(\"Step\\tLoss\")\n",
    "    for step in range(nSteps):\n",
    "        loss = svi.step(D=D, nTopics=nTopics, nRegions=nRegions)\n",
    "        if step % 100 == 0:\n",
    "            logging.info(\"{: >5d}\\t{}\".format(step, loss))\n",
    "        losses.append(loss)\n",
    "    logging.info(\"final loss = {}\".format(loss))\n",
    "\n",
    "    obj = dict()\n",
    "    obj['losses'] = losses\n",
    "    return obj\n",
    "\n",
    "pyro.clear_param_store()\n",
    "obj = fit_auto_lda(D = D, nTopics = nTopics, nRegions = nRegions, nSteps = 1000, lr = 0.01, seed = 123)"
   ]
  },
  {
   "cell_type": "code",
   "execution_count": null,
   "id": "429f1207-a9d2-4957-b051-c6d5c027536b",
   "metadata": {},
   "outputs": [],
   "source": [
    "# plot ELBO losses\n",
    "losses = obj['losses']\n",
    "\n",
    "plt.figure(figsize=(5, 2))\n",
    "plt.plot(losses)\n",
    "plt.xlabel(\"SVI step\")\n",
    "plt.ylabel(\"ELBO loss\")"
   ]
  }
 ],
 "metadata": {
  "kernelspec": {
   "display_name": "Python 3 (ipykernel)",
   "language": "python",
   "name": "python3"
  },
  "language_info": {
   "codemirror_mode": {
    "name": "ipython",
    "version": 3
   },
   "file_extension": ".py",
   "mimetype": "text/x-python",
   "name": "python",
   "nbconvert_exporter": "python",
   "pygments_lexer": "ipython3",
   "version": "3.10.8"
  }
 },
 "nbformat": 4,
 "nbformat_minor": 5
}
