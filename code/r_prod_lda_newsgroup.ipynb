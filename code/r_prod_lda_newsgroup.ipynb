{
 "cells": [
  {
   "cell_type": "markdown",
   "id": "ac48d68a-2a3f-4229-968c-8b54b318bafb",
   "metadata": {},
   "source": [
    "# ProdLDA implementation on newsgroup dataset\n",
    "\n",
    "## Loading libraries"
   ]
  },
  {
   "cell_type": "code",
   "execution_count": null,
   "id": "6785b408-c119-4dc8-91c8-1506be70dec6",
   "metadata": {},
   "outputs": [],
   "source": [
    "# Load libraries\n",
    "import logging\n",
    "import pyro\n",
    "import torch\n",
    "import pandas as pd\n",
    "import numpy as np\n",
    "\n",
    "import torch.nn.functional as F\n",
    "\n",
    "import matplotlib.pyplot as plt\n",
    "\n",
    "from sklearn.datasets import fetch_20newsgroups\n",
    "from sklearn.feature_extraction.text import CountVectorizer\n",
    "\n",
    "from zzz_utils import *\n",
    "from prod_lda import *\n",
    "\n",
    "logging.basicConfig(format=\"%(relativeCreated) 9d %(message)s\", level=logging.INFO)\n",
    "\n",
    "pyro.clear_param_store()\n",
    "pyro.set_rng_seed(1)"
   ]
  },
  {
   "cell_type": "markdown",
   "id": "d5e89bcb-d247-4508-a9b6-f185cbf9053f",
   "metadata": {},
   "source": [
    "## Loading and process the data"
   ]
  },
  {
   "cell_type": "code",
   "execution_count": null,
   "id": "ce3c02c3-1954-45c8-98ce-f20014ba4fa1",
   "metadata": {},
   "outputs": [],
   "source": [
    "news = fetch_20newsgroups(subset='all')\n",
    "vectorizer = CountVectorizer(max_df=0.5, min_df=30, stop_words='english')\n",
    "docs = torch.from_numpy(vectorizer.fit_transform(news['data']).toarray())\n",
    "\n",
    "vocab = pd.DataFrame(columns=['word', 'index'])\n",
    "vocab['word'] = vectorizer.get_feature_names()\n",
    "vocab['index'] = vocab.index"
   ]
  },
  {
   "cell_type": "code",
   "execution_count": null,
   "id": "47385946-2423-42be-83be-37c35ae40cd1",
   "metadata": {},
   "outputs": [],
   "source": [
    "print('Dictionary size: %d' % len(vocab))\n",
    "print('Corpus size: {}'.format(docs.shape))"
   ]
  },
  {
   "cell_type": "markdown",
   "id": "f9c9e95a-c118-4bf6-a3ba-270a54880d20",
   "metadata": {},
   "source": [
    "## Testing variational inference"
   ]
  },
  {
   "cell_type": "code",
   "execution_count": null,
   "id": "07dec6bb-e835-46af-b771-0ee335794ee4",
   "metadata": {},
   "outputs": [],
   "source": [
    "pyro.clear_param_store()\n",
    "nTopics = 10\n",
    "device = torch.device(\"cuda:0\" if torch.cuda.is_available() else \"cpu\")\n",
    "docs = docs.float().to(device)\n",
    "obj = fit_prod_lda(D = docs, nTopics = nTopics, nEpochs = 20, batch_size=32, lr = 0.01, seed = 123)"
   ]
  },
  {
   "cell_type": "code",
   "execution_count": null,
   "id": "6c93e8ca-6a1c-4606-8456-1ad213a10bcf",
   "metadata": {},
   "outputs": [],
   "source": [
    "# plot ELBO losses\n",
    "losses = obj['losses']\n",
    "\n",
    "plt.figure(figsize=(5, 2))\n",
    "plt.plot(losses)\n",
    "plt.xlabel(\"SVI step\")\n",
    "plt.ylabel(\"ELBO loss\");"
   ]
  },
  {
   "cell_type": "markdown",
   "id": "056e402f-6b8c-479a-b122-290ec78ac8b8",
   "metadata": {},
   "source": [
    "# WordClouds"
   ]
  },
  {
   "cell_type": "code",
   "execution_count": null,
   "id": "b124f5f3-a642-4ae2-a908-67348acea000",
   "metadata": {},
   "outputs": [],
   "source": [
    "prodLDA = obj['prodLDA']\n",
    "phi = prodLDA.get_phi()\n",
    "fig, axs = plt.subplots(4, 3, figsize=(12, 12))\n",
    "for n in range(phi.shape[0]):\n",
    "    i, j = divmod(n, 3)\n",
    "    plot_word_cloud(scale_zero_one(phi[n]), vocab, axs[i, j], 'Topic %d' % (n + 1))\n",
    "axs[-1, -1].axis('off');\n",
    "\n",
    "plt.show()"
   ]
  }
 ],
 "metadata": {
  "kernelspec": {
   "display_name": "Python 3 (ipykernel)",
   "language": "python",
   "name": "python3"
  },
  "language_info": {
   "codemirror_mode": {
    "name": "ipython",
    "version": 3
   },
   "file_extension": ".py",
   "mimetype": "text/x-python",
   "name": "python",
   "nbconvert_exporter": "python",
   "pygments_lexer": "ipython3",
   "version": "3.10.4"
  }
 },
 "nbformat": 4,
 "nbformat_minor": 5
}
