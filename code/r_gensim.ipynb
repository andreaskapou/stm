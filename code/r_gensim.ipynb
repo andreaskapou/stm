{
 "cells": [
  {
   "cell_type": "markdown",
   "id": "ac48d68a-2a3f-4229-968c-8b54b318bafb",
   "metadata": {},
   "source": [
    "# LDA implementation in gensim\n",
    "\n",
    "## Loading libraries"
   ]
  },
  {
   "cell_type": "code",
   "execution_count": null,
   "id": "6785b408-c119-4dc8-91c8-1506be70dec6",
   "metadata": {},
   "outputs": [],
   "source": [
    "%matplotlib inline\n",
    "import seaborn as sns\n",
    "import matplotlib.pyplot as plt\n",
    "import numpy as np\n",
    "import pandas as pd\n",
    "\n",
    "from gensim import corpora\n",
    "from gensim.models import LdaModel\n",
    "from gensim.models.coherencemodel import CoherenceModel\n",
    "\n",
    "from zzz_utils import *\n",
    "\n",
    "np.random.seed(37)"
   ]
  },
  {
   "cell_type": "markdown",
   "id": "3311b244-55cc-4bda-b29f-8c11f8b9ca29",
   "metadata": {},
   "source": [
    "## Simulate and preprocess data"
   ]
  },
  {
   "cell_type": "code",
   "execution_count": null,
   "id": "77319d72-5126-4098-ad17-0b005bdb0dae",
   "metadata": {},
   "outputs": [],
   "source": [
    "nTopics = 2    # Topics\n",
    "nCells = 1000  # Cells\n",
    "nRegions = 300 # Regions\n",
    "N = [100] * nCells # Cells size\n",
    "a = [1/5] * nTopics\n",
    "b = [1/10] * nRegions\n",
    "# Simulate data\n",
    "obj = simulate_lda_dataset(nTopics = nTopics, nCells = nCells, \n",
    "                           nRegions = nRegions, N = N, \n",
    "                           a = a, b = b)\n",
    "\n",
    "T = [t.split(' ') for t in obj['D_str']]\n",
    "# Dictionary\n",
    "dictionary = corpora.Dictionary(T)\n",
    "# Corpus in bag-of-words format = list of (token_id, token_count) 2-tuples\n",
    "corpus = [dictionary.doc2bow(text) for text in T]"
   ]
  },
  {
   "cell_type": "markdown",
   "id": "d5e89bcb-d247-4508-a9b6-f185cbf9053f",
   "metadata": {},
   "source": [
    "## LDA model"
   ]
  },
  {
   "cell_type": "code",
   "execution_count": null,
   "id": "ce3c02c3-1954-45c8-98ce-f20014ba4fa1",
   "metadata": {},
   "outputs": [],
   "source": [
    "def learn_lda_model(corpus, dictionary, k):\n",
    "    lda = LdaModel(corpus, \n",
    "               id2word=dictionary, \n",
    "               num_topics=k, \n",
    "               random_state=37, \n",
    "               iterations=100,\n",
    "               passes=5,\n",
    "               per_word_topics=False)\n",
    "    cm = CoherenceModel(model=lda, corpus=corpus, coherence='u_mass')\n",
    "    coherence = cm.get_coherence()\n",
    "    print('{}: {}'.format(k, coherence))\n",
    "    return lda\n",
    "#lda_scores = [learn_lda_model(corpus, dictionary, k) for k in range(2, 10)]\n",
    "\n",
    "lda = learn_lda_model(corpus, dictionary, 2)"
   ]
  },
  {
   "cell_type": "code",
   "execution_count": null,
   "id": "4537dffd-289c-45ca-926a-f07c1a05c954",
   "metadata": {},
   "outputs": [],
   "source": [
    "for m in range(10):\n",
    "    theta1 = lda.get_document_topics(corpus[m])\n",
    "    print(theta1)"
   ]
  },
  {
   "cell_type": "code",
   "execution_count": null,
   "id": "318adecc-4b74-472a-873c-c252fdd00dd1",
   "metadata": {},
   "outputs": [],
   "source": [
    "obj['true_theta'][0:10, :]"
   ]
  },
  {
   "cell_type": "code",
   "execution_count": null,
   "id": "aa034d00-790d-41c6-bebf-19598b8364df",
   "metadata": {},
   "outputs": [],
   "source": []
  }
 ],
 "metadata": {
  "kernelspec": {
   "display_name": "Python 3 (ipykernel)",
   "language": "python",
   "name": "python3"
  },
  "language_info": {
   "codemirror_mode": {
    "name": "ipython",
    "version": 3
   },
   "file_extension": ".py",
   "mimetype": "text/x-python",
   "name": "python",
   "nbconvert_exporter": "python",
   "pygments_lexer": "ipython3",
   "version": "3.10.4"
  }
 },
 "nbformat": 4,
 "nbformat_minor": 5
}
